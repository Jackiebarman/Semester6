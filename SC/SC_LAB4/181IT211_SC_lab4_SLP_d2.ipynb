{
  "nbformat": 4,
  "nbformat_minor": 0,
  "metadata": {
    "colab": {
      "name": "181IT211_SC_lab4_SLP_d2.ipynb",
      "provenance": []
    },
    "kernelspec": {
      "name": "python3",
      "display_name": "Python 3"
    }
  },
  "cells": [
    {
      "cell_type": "code",
      "metadata": {
        "colab": {
          "base_uri": "https://localhost:8080/"
        },
        "id": "84nPDUR-TpRf",
        "outputId": "45fd5b4c-dbb8-433e-f24f-a1805568f147"
      },
      "source": [
        "from google.colab import  drive\n",
        "drive.mount('/content/drive')"
      ],
      "execution_count": null,
      "outputs": [
        {
          "output_type": "stream",
          "text": [
            "Mounted at /content/drive\n"
          ],
          "name": "stdout"
        }
      ]
    },
    {
      "cell_type": "code",
      "metadata": {
        "id": "QacHS39qUBpF"
      },
      "source": [
        "import pandas as pd\n",
        "import numpy as np\n",
        "from pandas import read_csv\n",
        "from sklearn.preprocessing import MinMaxScaler\n",
        "import random"
      ],
      "execution_count": null,
      "outputs": []
    },
    {
      "cell_type": "code",
      "metadata": {
        "colab": {
          "base_uri": "https://localhost:8080/",
          "height": 424
        },
        "id": "-0CcbP2bUPYi",
        "outputId": "d189dc8b-ea9d-4872-c7fa-492c45c20ba0"
      },
      "source": [
        "data=read_csv(\"/content/drive/My Drive/sc_lab/heart2.xls\")\n",
        "data=pd.DataFrame(data)\n",
        "scaler = MinMaxScaler()\n",
        "scaler.fit(data)\n",
        "# random.shuffle(data)\n",
        "data"
      ],
      "execution_count": null,
      "outputs": [
        {
          "output_type": "execute_result",
          "data": {
            "text/html": [
              "<div>\n",
              "<style scoped>\n",
              "    .dataframe tbody tr th:only-of-type {\n",
              "        vertical-align: middle;\n",
              "    }\n",
              "\n",
              "    .dataframe tbody tr th {\n",
              "        vertical-align: top;\n",
              "    }\n",
              "\n",
              "    .dataframe thead th {\n",
              "        text-align: right;\n",
              "    }\n",
              "</style>\n",
              "<table border=\"1\" class=\"dataframe\">\n",
              "  <thead>\n",
              "    <tr style=\"text-align: right;\">\n",
              "      <th></th>\n",
              "      <th>age</th>\n",
              "      <th>sex</th>\n",
              "      <th>cp</th>\n",
              "      <th>trestbps</th>\n",
              "      <th>chol</th>\n",
              "      <th>fbs</th>\n",
              "      <th>restecg</th>\n",
              "      <th>thalach</th>\n",
              "      <th>exang</th>\n",
              "      <th>oldpeak</th>\n",
              "      <th>slope</th>\n",
              "      <th>ca</th>\n",
              "      <th>thal</th>\n",
              "      <th>target</th>\n",
              "    </tr>\n",
              "  </thead>\n",
              "  <tbody>\n",
              "    <tr>\n",
              "      <th>0</th>\n",
              "      <td>63</td>\n",
              "      <td>1</td>\n",
              "      <td>3</td>\n",
              "      <td>145</td>\n",
              "      <td>233</td>\n",
              "      <td>1</td>\n",
              "      <td>0</td>\n",
              "      <td>150</td>\n",
              "      <td>0</td>\n",
              "      <td>2.3</td>\n",
              "      <td>0</td>\n",
              "      <td>0</td>\n",
              "      <td>1</td>\n",
              "      <td>1</td>\n",
              "    </tr>\n",
              "    <tr>\n",
              "      <th>1</th>\n",
              "      <td>37</td>\n",
              "      <td>1</td>\n",
              "      <td>2</td>\n",
              "      <td>130</td>\n",
              "      <td>250</td>\n",
              "      <td>0</td>\n",
              "      <td>1</td>\n",
              "      <td>187</td>\n",
              "      <td>0</td>\n",
              "      <td>3.5</td>\n",
              "      <td>0</td>\n",
              "      <td>0</td>\n",
              "      <td>2</td>\n",
              "      <td>1</td>\n",
              "    </tr>\n",
              "    <tr>\n",
              "      <th>2</th>\n",
              "      <td>41</td>\n",
              "      <td>0</td>\n",
              "      <td>1</td>\n",
              "      <td>130</td>\n",
              "      <td>204</td>\n",
              "      <td>0</td>\n",
              "      <td>0</td>\n",
              "      <td>172</td>\n",
              "      <td>0</td>\n",
              "      <td>1.4</td>\n",
              "      <td>2</td>\n",
              "      <td>0</td>\n",
              "      <td>2</td>\n",
              "      <td>1</td>\n",
              "    </tr>\n",
              "    <tr>\n",
              "      <th>3</th>\n",
              "      <td>56</td>\n",
              "      <td>1</td>\n",
              "      <td>1</td>\n",
              "      <td>120</td>\n",
              "      <td>236</td>\n",
              "      <td>0</td>\n",
              "      <td>1</td>\n",
              "      <td>178</td>\n",
              "      <td>0</td>\n",
              "      <td>0.8</td>\n",
              "      <td>2</td>\n",
              "      <td>0</td>\n",
              "      <td>2</td>\n",
              "      <td>1</td>\n",
              "    </tr>\n",
              "    <tr>\n",
              "      <th>4</th>\n",
              "      <td>57</td>\n",
              "      <td>0</td>\n",
              "      <td>0</td>\n",
              "      <td>120</td>\n",
              "      <td>354</td>\n",
              "      <td>0</td>\n",
              "      <td>1</td>\n",
              "      <td>163</td>\n",
              "      <td>1</td>\n",
              "      <td>0.6</td>\n",
              "      <td>2</td>\n",
              "      <td>0</td>\n",
              "      <td>2</td>\n",
              "      <td>1</td>\n",
              "    </tr>\n",
              "    <tr>\n",
              "      <th>...</th>\n",
              "      <td>...</td>\n",
              "      <td>...</td>\n",
              "      <td>...</td>\n",
              "      <td>...</td>\n",
              "      <td>...</td>\n",
              "      <td>...</td>\n",
              "      <td>...</td>\n",
              "      <td>...</td>\n",
              "      <td>...</td>\n",
              "      <td>...</td>\n",
              "      <td>...</td>\n",
              "      <td>...</td>\n",
              "      <td>...</td>\n",
              "      <td>...</td>\n",
              "    </tr>\n",
              "    <tr>\n",
              "      <th>298</th>\n",
              "      <td>57</td>\n",
              "      <td>0</td>\n",
              "      <td>0</td>\n",
              "      <td>140</td>\n",
              "      <td>241</td>\n",
              "      <td>0</td>\n",
              "      <td>1</td>\n",
              "      <td>123</td>\n",
              "      <td>1</td>\n",
              "      <td>0.2</td>\n",
              "      <td>1</td>\n",
              "      <td>0</td>\n",
              "      <td>3</td>\n",
              "      <td>0</td>\n",
              "    </tr>\n",
              "    <tr>\n",
              "      <th>299</th>\n",
              "      <td>45</td>\n",
              "      <td>1</td>\n",
              "      <td>3</td>\n",
              "      <td>110</td>\n",
              "      <td>264</td>\n",
              "      <td>0</td>\n",
              "      <td>1</td>\n",
              "      <td>132</td>\n",
              "      <td>0</td>\n",
              "      <td>1.2</td>\n",
              "      <td>1</td>\n",
              "      <td>0</td>\n",
              "      <td>3</td>\n",
              "      <td>0</td>\n",
              "    </tr>\n",
              "    <tr>\n",
              "      <th>300</th>\n",
              "      <td>68</td>\n",
              "      <td>1</td>\n",
              "      <td>0</td>\n",
              "      <td>144</td>\n",
              "      <td>193</td>\n",
              "      <td>1</td>\n",
              "      <td>1</td>\n",
              "      <td>141</td>\n",
              "      <td>0</td>\n",
              "      <td>3.4</td>\n",
              "      <td>1</td>\n",
              "      <td>2</td>\n",
              "      <td>3</td>\n",
              "      <td>0</td>\n",
              "    </tr>\n",
              "    <tr>\n",
              "      <th>301</th>\n",
              "      <td>57</td>\n",
              "      <td>1</td>\n",
              "      <td>0</td>\n",
              "      <td>130</td>\n",
              "      <td>131</td>\n",
              "      <td>0</td>\n",
              "      <td>1</td>\n",
              "      <td>115</td>\n",
              "      <td>1</td>\n",
              "      <td>1.2</td>\n",
              "      <td>1</td>\n",
              "      <td>1</td>\n",
              "      <td>3</td>\n",
              "      <td>0</td>\n",
              "    </tr>\n",
              "    <tr>\n",
              "      <th>302</th>\n",
              "      <td>57</td>\n",
              "      <td>0</td>\n",
              "      <td>1</td>\n",
              "      <td>130</td>\n",
              "      <td>236</td>\n",
              "      <td>0</td>\n",
              "      <td>0</td>\n",
              "      <td>174</td>\n",
              "      <td>0</td>\n",
              "      <td>0.0</td>\n",
              "      <td>1</td>\n",
              "      <td>1</td>\n",
              "      <td>2</td>\n",
              "      <td>0</td>\n",
              "    </tr>\n",
              "  </tbody>\n",
              "</table>\n",
              "<p>303 rows × 14 columns</p>\n",
              "</div>"
            ],
            "text/plain": [
              "     age  sex  cp  trestbps  chol  fbs  ...  exang  oldpeak  slope  ca  thal  target\n",
              "0     63    1   3       145   233    1  ...      0      2.3      0   0     1       1\n",
              "1     37    1   2       130   250    0  ...      0      3.5      0   0     2       1\n",
              "2     41    0   1       130   204    0  ...      0      1.4      2   0     2       1\n",
              "3     56    1   1       120   236    0  ...      0      0.8      2   0     2       1\n",
              "4     57    0   0       120   354    0  ...      1      0.6      2   0     2       1\n",
              "..   ...  ...  ..       ...   ...  ...  ...    ...      ...    ...  ..   ...     ...\n",
              "298   57    0   0       140   241    0  ...      1      0.2      1   0     3       0\n",
              "299   45    1   3       110   264    0  ...      0      1.2      1   0     3       0\n",
              "300   68    1   0       144   193    1  ...      0      3.4      1   2     3       0\n",
              "301   57    1   0       130   131    0  ...      1      1.2      1   1     3       0\n",
              "302   57    0   1       130   236    0  ...      0      0.0      1   1     2       0\n",
              "\n",
              "[303 rows x 14 columns]"
            ]
          },
          "metadata": {
            "tags": []
          },
          "execution_count": 38
        }
      ]
    },
    {
      "cell_type": "code",
      "metadata": {
        "colab": {
          "base_uri": "https://localhost:8080/"
        },
        "id": "N9MU0fxfAZQ3",
        "outputId": "8fcd7dc2-ee76-4a28-e14d-913a4b5204e4"
      },
      "source": [
        "# d1=data[[\"age\",\"sex\",\"cp\",\"trestbps\",\"chol\",\"fbs\",\"restecg\",\"thalach\",\"exang\",\"oldpeak\",\"slope\",\"ca\",\"thal\"]]\n",
        "# d2=data[\"target\"]\n",
        "# d1=np.array(d1)\n",
        "# d2=np.array(d2)\n",
        "data=data.to_numpy()\n",
        "random.shuffle(data)\n",
        "print(data)\n"
      ],
      "execution_count": null,
      "outputs": [
        {
          "output_type": "stream",
          "text": [
            "[[63.  1.  3. ...  0.  1.  1.]\n",
            " [63.  1.  3. ...  0.  1.  1.]\n",
            " [63.  1.  3. ...  0.  1.  1.]\n",
            " ...\n",
            " [52.  1.  1. ...  0.  2.  1.]\n",
            " [41.  1.  2. ...  0.  2.  1.]\n",
            " [52.  1.  2. ...  4.  2.  1.]]\n"
          ],
          "name": "stdout"
        }
      ]
    },
    {
      "cell_type": "code",
      "metadata": {
        "id": "4zteZSOnXIGA"
      },
      "source": [
        "d2=data[:,-1]\n",
        "d1=data[:,:-1]"
      ],
      "execution_count": null,
      "outputs": []
    },
    {
      "cell_type": "code",
      "metadata": {
        "colab": {
          "base_uri": "https://localhost:8080/"
        },
        "id": "jPAFhFM319ob",
        "outputId": "d17a7da1-1c1a-46d2-c0f1-4ba9ae8e4d44"
      },
      "source": [
        "n=len(d1[0])\n",
        "n"
      ],
      "execution_count": null,
      "outputs": [
        {
          "output_type": "execute_result",
          "data": {
            "text/plain": [
              "13"
            ]
          },
          "metadata": {
            "tags": []
          },
          "execution_count": 41
        }
      ]
    },
    {
      "cell_type": "code",
      "metadata": {
        "id": "vjzXcXIn3Y4r"
      },
      "source": [
        "def fun(data,N,error,weight,bias,l):\n",
        "  predict=[0 for i in range(N)]\n",
        "  \n",
        "  for i in range(N):\n",
        "    val=0\n",
        "    for j in range(n):\n",
        "      val+=data[i][j]*weight[j]\n",
        "    val+=bias\n",
        "\n",
        "    if(val<=0):\n",
        "      predict[i]=0\n",
        "    else:\n",
        "      predict[i]=1\n",
        "\n",
        "    error[i]=data[i][n]-predict[i]\n",
        "\n",
        "    for j in range(n):\n",
        "      if(data[i][j]!=0):\n",
        "        weight[j]=weight[j]+l*error[i]\n",
        "\n",
        "  return weight\n"
      ],
      "execution_count": null,
      "outputs": []
    },
    {
      "cell_type": "code",
      "metadata": {
        "id": "V66al5RyDDsn"
      },
      "source": [
        "def classification_report(cm):\n",
        "    accuracy = 0\n",
        "    total = np.sum(cm)\n",
        "    diagonal = np.sum(np.diag(cm))\n",
        "    accuracy=(diagonal/total)*100\n",
        "    print(\"Accuracy : => \",(diagonal/total)*100)\n",
        "    return accuracy"
      ],
      "execution_count": null,
      "outputs": []
    },
    {
      "cell_type": "code",
      "metadata": {
        "colab": {
          "base_uri": "https://localhost:8080/"
        },
        "id": "t0lCbFl2BOVd",
        "outputId": "de6f76cf-8b40-429d-b54a-899a1d03bec6"
      },
      "source": [
        "block=int(len(data)/10)\n",
        "print(block)\n",
        "M=[[ 0 for i in range(2)] for i in range(2)]\n",
        "for i in range(10):\n",
        "\n",
        "  L=0.2\n",
        "  bias=0\n",
        "  temp_x_data=[]\n",
        "  temp_y_data=[]\n",
        "  \n",
        "  x_test=[]\n",
        "  y_test=[]\n",
        "  \n",
        "\n",
        "  point=[]\n",
        "  for j in range(block):\n",
        "    point.append(block*i+j)\n",
        "\n",
        "  \n",
        "  for j in range(len(data)):\n",
        "    if(j in point):\n",
        "      x_test.append(d1[j])\n",
        "      y_test.append(d2[j])\n",
        "    else:\n",
        "      temp_x_data.append(d1[j])\n",
        "      temp_y_data.append(d2[j])\n",
        "\n",
        "\n",
        "  \n",
        "  matrix=[[0 for i in range(2)]for i in range(2)]\n",
        "\n",
        "  weight=[1/n for i in range(n)]\n",
        "  error=[1 for i in range(len(temp_x_data))]\n",
        "  \n",
        "  max_itr=500\n",
        "  while(max_itr):\n",
        "    w=fun(data,len(temp_x_data),error,weight,bias,L)\n",
        "    weight=w\n",
        "    max_itr-=1\n",
        "\n",
        "  for j in range(len(x_test)):\n",
        "    val=0\n",
        "    for k in range(n):\n",
        "      val+=x_test[j][k]*weight[k]\n",
        "    val+=bias\n",
        "  \n",
        "    if(val<=0):\n",
        "      matrix[int(y_test[j])][0]+=1\n",
        "    else:\n",
        "      matrix[int(y_test[j])][1]+=1\n",
        "\n",
        "  for p in range(2):\n",
        "    for q in range(2):\n",
        "      M[p][q]+=matrix[p][q]\n",
        "  print(\"Fold \",i+1)\n",
        "  print(matrix)\n",
        "  accu=classification_report(matrix)\n",
        "\n",
        "print(\"Final confusion matrix\")\n",
        "print(M)\n",
        "print()\n",
        "print(\"Average accuracy=>\",classification_report(M))"
      ],
      "execution_count": null,
      "outputs": [
        {
          "output_type": "stream",
          "text": [
            "30\n",
            "Fold  1\n",
            "[[0, 0], [0, 30]]\n",
            "Accuracy : =>  100.0\n",
            "Fold  2\n",
            "[[0, 0], [1, 29]]\n",
            "Accuracy : =>  96.66666666666667\n",
            "Fold  3\n",
            "[[0, 0], [3, 27]]\n",
            "Accuracy : =>  90.0\n",
            "Fold  4\n",
            "[[0, 0], [0, 30]]\n",
            "Accuracy : =>  100.0\n",
            "Fold  5\n",
            "[[0, 0], [1, 29]]\n",
            "Accuracy : =>  96.66666666666667\n",
            "Fold  6\n",
            "[[2, 0], [1, 27]]\n",
            "Accuracy : =>  96.66666666666667\n",
            "Fold  7\n",
            "[[1, 1], [0, 28]]\n",
            "Accuracy : =>  96.66666666666667\n",
            "Fold  8\n",
            "[[6, 0], [1, 23]]\n",
            "Accuracy : =>  96.66666666666667\n",
            "Fold  9\n",
            "[[3, 4], [1, 22]]\n",
            "Accuracy : =>  83.33333333333334\n",
            "Fold  10\n",
            "[[10, 4], [3, 13]]\n",
            "Accuracy : =>  76.66666666666667\n",
            "Final confusion matrix\n",
            "[[22, 9], [11, 258]]\n",
            "\n",
            "Accuracy : =>  93.33333333333333\n",
            "Average accuracy=> 93.33333333333333\n"
          ],
          "name": "stdout"
        }
      ]
    }
  ]
}