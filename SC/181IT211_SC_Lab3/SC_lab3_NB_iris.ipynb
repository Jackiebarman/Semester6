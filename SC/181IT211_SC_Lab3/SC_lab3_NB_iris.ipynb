{
  "nbformat": 4,
  "nbformat_minor": 0,
  "metadata": {
    "colab": {
      "name": "SC_lab3_NB_iris.ipynb",
      "provenance": []
    },
    "kernelspec": {
      "name": "python3",
      "display_name": "Python 3"
    }
  },
  "cells": [
    {
      "cell_type": "code",
      "metadata": {
        "colab": {
          "base_uri": "https://localhost:8080/"
        },
        "id": "4PJizEoZJt_L",
        "outputId": "a6cc898e-2563-4c4d-e1c3-f441de3bb2ab"
      },
      "source": [
        "from google.colab import drive\n",
        "drive.mount('/content/drive')"
      ],
      "execution_count": 29,
      "outputs": [
        {
          "output_type": "stream",
          "text": [
            "Drive already mounted at /content/drive; to attempt to forcibly remount, call drive.mount(\"/content/drive\", force_remount=True).\n"
          ],
          "name": "stdout"
        }
      ]
    },
    {
      "cell_type": "code",
      "metadata": {
        "id": "Mp5TqnFyKCyU"
      },
      "source": [
        "import pandas as pd\n",
        "import numpy as np\n",
        "import sklearn\n",
        "import statistics\n",
        "import math \n",
        "import random"
      ],
      "execution_count": 30,
      "outputs": []
    },
    {
      "cell_type": "code",
      "metadata": {
        "colab": {
          "base_uri": "https://localhost:8080/",
          "height": 424
        },
        "id": "D2iBKxEdKfra",
        "outputId": "44e1f1ed-9537-4383-abe9-e0847026ae23"
      },
      "source": [
        "data=pd.read_csv(\"/content/drive/My Drive/sc_lab/Iris2.csv\")\n",
        "data=pd.DataFrame(data)\n",
        "data"
      ],
      "execution_count": 31,
      "outputs": [
        {
          "output_type": "execute_result",
          "data": {
            "text/html": [
              "<div>\n",
              "<style scoped>\n",
              "    .dataframe tbody tr th:only-of-type {\n",
              "        vertical-align: middle;\n",
              "    }\n",
              "\n",
              "    .dataframe tbody tr th {\n",
              "        vertical-align: top;\n",
              "    }\n",
              "\n",
              "    .dataframe thead th {\n",
              "        text-align: right;\n",
              "    }\n",
              "</style>\n",
              "<table border=\"1\" class=\"dataframe\">\n",
              "  <thead>\n",
              "    <tr style=\"text-align: right;\">\n",
              "      <th></th>\n",
              "      <th>Id</th>\n",
              "      <th>SepalLengthCm</th>\n",
              "      <th>SepalWidthCm</th>\n",
              "      <th>PetalLengthCm</th>\n",
              "      <th>PetalWidthCm</th>\n",
              "      <th>Species</th>\n",
              "    </tr>\n",
              "  </thead>\n",
              "  <tbody>\n",
              "    <tr>\n",
              "      <th>0</th>\n",
              "      <td>1</td>\n",
              "      <td>5.1</td>\n",
              "      <td>3.5</td>\n",
              "      <td>1.4</td>\n",
              "      <td>0.2</td>\n",
              "      <td>Iris-setosa</td>\n",
              "    </tr>\n",
              "    <tr>\n",
              "      <th>1</th>\n",
              "      <td>2</td>\n",
              "      <td>4.9</td>\n",
              "      <td>3.0</td>\n",
              "      <td>1.4</td>\n",
              "      <td>0.2</td>\n",
              "      <td>Iris-setosa</td>\n",
              "    </tr>\n",
              "    <tr>\n",
              "      <th>2</th>\n",
              "      <td>3</td>\n",
              "      <td>4.7</td>\n",
              "      <td>3.2</td>\n",
              "      <td>1.3</td>\n",
              "      <td>0.2</td>\n",
              "      <td>Iris-setosa</td>\n",
              "    </tr>\n",
              "    <tr>\n",
              "      <th>3</th>\n",
              "      <td>4</td>\n",
              "      <td>4.6</td>\n",
              "      <td>3.1</td>\n",
              "      <td>1.5</td>\n",
              "      <td>0.2</td>\n",
              "      <td>Iris-setosa</td>\n",
              "    </tr>\n",
              "    <tr>\n",
              "      <th>4</th>\n",
              "      <td>5</td>\n",
              "      <td>5.0</td>\n",
              "      <td>3.6</td>\n",
              "      <td>1.4</td>\n",
              "      <td>0.2</td>\n",
              "      <td>Iris-setosa</td>\n",
              "    </tr>\n",
              "    <tr>\n",
              "      <th>...</th>\n",
              "      <td>...</td>\n",
              "      <td>...</td>\n",
              "      <td>...</td>\n",
              "      <td>...</td>\n",
              "      <td>...</td>\n",
              "      <td>...</td>\n",
              "    </tr>\n",
              "    <tr>\n",
              "      <th>145</th>\n",
              "      <td>146</td>\n",
              "      <td>6.7</td>\n",
              "      <td>3.0</td>\n",
              "      <td>5.2</td>\n",
              "      <td>2.3</td>\n",
              "      <td>Iris-virginica</td>\n",
              "    </tr>\n",
              "    <tr>\n",
              "      <th>146</th>\n",
              "      <td>147</td>\n",
              "      <td>6.3</td>\n",
              "      <td>2.5</td>\n",
              "      <td>5.0</td>\n",
              "      <td>1.9</td>\n",
              "      <td>Iris-virginica</td>\n",
              "    </tr>\n",
              "    <tr>\n",
              "      <th>147</th>\n",
              "      <td>148</td>\n",
              "      <td>6.5</td>\n",
              "      <td>3.0</td>\n",
              "      <td>5.2</td>\n",
              "      <td>2.0</td>\n",
              "      <td>Iris-virginica</td>\n",
              "    </tr>\n",
              "    <tr>\n",
              "      <th>148</th>\n",
              "      <td>149</td>\n",
              "      <td>6.2</td>\n",
              "      <td>3.4</td>\n",
              "      <td>5.4</td>\n",
              "      <td>2.3</td>\n",
              "      <td>Iris-virginica</td>\n",
              "    </tr>\n",
              "    <tr>\n",
              "      <th>149</th>\n",
              "      <td>150</td>\n",
              "      <td>5.9</td>\n",
              "      <td>3.0</td>\n",
              "      <td>5.1</td>\n",
              "      <td>1.8</td>\n",
              "      <td>Iris-virginica</td>\n",
              "    </tr>\n",
              "  </tbody>\n",
              "</table>\n",
              "<p>150 rows × 6 columns</p>\n",
              "</div>"
            ],
            "text/plain": [
              "      Id  SepalLengthCm  ...  PetalWidthCm         Species\n",
              "0      1            5.1  ...           0.2     Iris-setosa\n",
              "1      2            4.9  ...           0.2     Iris-setosa\n",
              "2      3            4.7  ...           0.2     Iris-setosa\n",
              "3      4            4.6  ...           0.2     Iris-setosa\n",
              "4      5            5.0  ...           0.2     Iris-setosa\n",
              "..   ...            ...  ...           ...             ...\n",
              "145  146            6.7  ...           2.3  Iris-virginica\n",
              "146  147            6.3  ...           1.9  Iris-virginica\n",
              "147  148            6.5  ...           2.0  Iris-virginica\n",
              "148  149            6.2  ...           2.3  Iris-virginica\n",
              "149  150            5.9  ...           1.8  Iris-virginica\n",
              "\n",
              "[150 rows x 6 columns]"
            ]
          },
          "metadata": {
            "tags": []
          },
          "execution_count": 31
        }
      ]
    },
    {
      "cell_type": "code",
      "metadata": {
        "id": "NP6DFJ1zwWZt"
      },
      "source": [
        "d1=data[[\"SepalLengthCm\",\"SepalWidthCm\",\"PetalLengthCm\",\"PetalWidthCm\"]]\n",
        "d2=data[\"Species\"]\n",
        "d1=np.array(d1)\n",
        "d2=np.array(d2)"
      ],
      "execution_count": 32,
      "outputs": []
    },
    {
      "cell_type": "code",
      "metadata": {
        "id": "8hNMdxsYCPNZ"
      },
      "source": [
        "class_to_no={}\n",
        "class_to_no['Iris-setosa']=0\n",
        "class_to_no['Iris-versicolor']=1\n",
        "class_to_no['Iris-virginica']=2"
      ],
      "execution_count": 33,
      "outputs": []
    },
    {
      "cell_type": "code",
      "metadata": {
        "id": "GK4f3jyUIDVb"
      },
      "source": [
        "no_to_class={}\n",
        "no_to_class[0]='Iris-setosa'\n",
        "no_to_class[1]='Iris-versicolor'\n",
        "no_to_class[2]='Iris-virginica'"
      ],
      "execution_count": 34,
      "outputs": []
    },
    {
      "cell_type": "code",
      "metadata": {
        "id": "JVre9GTV_sAH"
      },
      "source": [
        "\n",
        "def get_group(x,y):\n",
        "  group=[[[] for i in range(4)] for i in range(3)]\n",
        "  for i in range(len(x)):\n",
        "    for j in range(4):\n",
        "      group[class_to_no[y[i]]][j].append(x[i][j])\n",
        "  return group\n",
        "\n"
      ],
      "execution_count": 35,
      "outputs": []
    },
    {
      "cell_type": "code",
      "metadata": {
        "id": "vpU1lErWDtWM"
      },
      "source": [
        "\n",
        "def get_group_mean(group):\n",
        "  group_mean=[[] for i in range(3)]\n",
        "  for i in range(len(group)):\n",
        "    for j in range(len(group[i])):\n",
        "      if(len(group[i][j])==0):\n",
        "        group_mean[i].append(0)\n",
        "      else:\n",
        "        group_mean[i].append(statistics.mean(group[i][j]))\n",
        "\n",
        "  return group_mean\n",
        "\n"
      ],
      "execution_count": 36,
      "outputs": []
    },
    {
      "cell_type": "code",
      "metadata": {
        "id": "4gErRd7sFQqC"
      },
      "source": [
        "\n",
        "def get_stddev(group):\n",
        "  group_stdev=[[] for i in range(3)]\n",
        "  for i in range(len(group)):\n",
        "    for j in range(len(group[i])):\n",
        "      if(len(group[i][j])<2):\n",
        "        group_stdev[i].append(0)\n",
        "      else:\n",
        "        group_stdev[i].append(statistics.stdev(group[i][j]))\n",
        "  \n",
        "  return group_stdev\n",
        "\n"
      ],
      "execution_count": 37,
      "outputs": []
    },
    {
      "cell_type": "code",
      "metadata": {
        "id": "TUOcwFxLFrpd"
      },
      "source": [
        "def prob(x,mean,stddev):\n",
        "  if(stddev==0):\n",
        "    return 0\n",
        "  return (math.exp(-((x-mean)**2)/(2*(stddev**2))))/(math.sqrt(2*math.pi)*stddev)"
      ],
      "execution_count": 38,
      "outputs": []
    },
    {
      "cell_type": "code",
      "metadata": {
        "id": "PVW0LN_PeB09"
      },
      "source": [
        "\n",
        "def get_count_class(y):\n",
        "  count_class={}\n",
        "  count_class['Iris-setosa']=0\n",
        "  count_class['Iris-versicolor']=0\n",
        "  count_class['Iris-virginica']=0\n",
        "  for i in y:\n",
        "    count_class[i]+=1\n",
        "  return count_class"
      ],
      "execution_count": 39,
      "outputs": []
    },
    {
      "cell_type": "code",
      "metadata": {
        "id": "oouAew9heunc"
      },
      "source": [
        "\n",
        "def get_prob_class(count_class,y):\n",
        "  prob_class={}\n",
        "  for i in count_class:\n",
        "    prob_class[i]=count_class[i]/len(y)\n",
        "  return prob_class"
      ],
      "execution_count": 40,
      "outputs": []
    },
    {
      "cell_type": "code",
      "metadata": {
        "id": "qr1IoCaMH7Pz"
      },
      "source": [
        "def predict(group,group_mean,group_stdev,prob_class,x_test):\n",
        "  predict_class=[]\n",
        "  for i in range(len(x_test)):\n",
        "\n",
        "    temp=[]\n",
        "    for j in range(len(group)):\n",
        "      p=1\n",
        "      for k in range(4):\n",
        "        p=p*prob(x_test[i][k],group_mean[j][k],group_stdev[j][k])\n",
        "      p=p*prob_class[no_to_class[j]]\n",
        "      temp.append(p)\n",
        "    \n",
        "    y=0\n",
        "    x=0\n",
        "  \n",
        "    for i in range(len(temp)):\n",
        "      if(temp[i]>x):\n",
        "        y=i\n",
        "        x=temp[i]\n",
        "\n",
        "    predict_class.append(y)\n",
        "  return predict_class  \n",
        "  \n"
      ],
      "execution_count": 41,
      "outputs": []
    },
    {
      "cell_type": "code",
      "metadata": {
        "id": "1K-5cC1qmXlz"
      },
      "source": [
        "def classification_report(cm):\n",
        "    accuracy = 0\n",
        "    total = np.sum(cm)\n",
        "    diagonal = np.sum(np.diag(cm))\n",
        "    accuracy=(diagonal/total)*100\n",
        "    print(\"Accuracy : => \",(diagonal/total)*100)\n",
        "    return accuracy"
      ],
      "execution_count": 42,
      "outputs": []
    },
    {
      "cell_type": "code",
      "metadata": {
        "colab": {
          "base_uri": "https://localhost:8080/"
        },
        "id": "PGdmOd1gvqky",
        "outputId": "edd64aab-77e0-420a-daa5-a2afeb58f4b3"
      },
      "source": [
        "Avg_accuracy=0\n",
        "block=int(len(data)/10)\n",
        "M=[[ 0 for i in range(3)] for i in range(3)]\n",
        "for i in range(10):\n",
        "  temp_x_data=[]\n",
        "  temp_y_data=[]\n",
        "  \n",
        "  x_test=[]\n",
        "  y_test=[]\n",
        "  \n",
        "\n",
        "  point=[]\n",
        "  for j in range(block):\n",
        "    point.append(block*i+j)\n",
        "\n",
        "  \n",
        "  for j in range(len(data)):\n",
        "    if(j in point):\n",
        "      x_test.append(d1[j])\n",
        "      y_test.append(d2[j])\n",
        "    else:\n",
        "      temp_x_data.append(d1[j])\n",
        "      temp_y_data.append(d2[j])\n",
        "  \n",
        "  group=get_group(temp_x_data,temp_y_data)\n",
        "  \n",
        "  group_mean=get_group_mean(group)\n",
        "  group_stdev=get_stddev(group)\n",
        "  count_class=get_count_class(temp_y_data)\n",
        "  prob_class=get_prob_class(count_class,temp_y_data)\n",
        "  \n",
        "  predict_class=predict(group,group_mean,group_stdev,prob_class,x_test)\n",
        "  print(\"Fold \",i+1)\n",
        "  # for j in range(len(predict_class)):\n",
        "  #   print(no_to_class[predict_class[j]],y_test[j])\n",
        "  \n",
        "  matrix=[[0 for j in range(3)] for j in range(3)]\n",
        "\n",
        "  for j in range(len(x_test)):\n",
        "    matrix[class_to_no[y_test[j]]][predict_class[j]]+=1\n",
        "\n",
        "  for p in range(3):\n",
        "    for q in range(3):\n",
        "      M[p][q]+=matrix[p][q]\n",
        "\n",
        "  \n",
        "  print(\"Confusion matrix\")\n",
        "  print(matrix)\n",
        "\n",
        "  accu=classification_report(matrix)\n",
        "  \n",
        "  Avg_accuracy+=accu\n",
        "  print()\n",
        "\n",
        "Avg_accuracy/=10\n",
        "\n",
        "\n",
        "print(\"Final confusion matrix\")\n",
        "print(M)\n",
        "print()\n",
        "print(\"Average accuracy=>\",Avg_accuracy)"
      ],
      "execution_count": 44,
      "outputs": [
        {
          "output_type": "stream",
          "text": [
            "Fold  1\n",
            "Confusion matrix\n",
            "[[15, 0, 0], [0, 0, 0], [0, 0, 0]]\n",
            "Accuracy : =>  100.0\n",
            "\n",
            "Fold  2\n",
            "Confusion matrix\n",
            "[[15, 0, 0], [0, 0, 0], [0, 0, 0]]\n",
            "Accuracy : =>  100.0\n",
            "\n",
            "Fold  3\n",
            "Confusion matrix\n",
            "[[15, 0, 0], [0, 0, 0], [0, 0, 0]]\n",
            "Accuracy : =>  100.0\n",
            "\n",
            "Fold  4\n",
            "Confusion matrix\n",
            "[[5, 0, 0], [0, 9, 1], [0, 0, 0]]\n",
            "Accuracy : =>  93.33333333333333\n",
            "\n",
            "Fold  5\n",
            "Confusion matrix\n",
            "[[0, 0, 0], [0, 14, 1], [0, 0, 0]]\n",
            "Accuracy : =>  93.33333333333333\n",
            "\n",
            "Fold  6\n",
            "Confusion matrix\n",
            "[[0, 0, 0], [0, 13, 2], [0, 0, 0]]\n",
            "Accuracy : =>  86.66666666666667\n",
            "\n",
            "Fold  7\n",
            "Confusion matrix\n",
            "[[0, 0, 0], [0, 10, 0], [0, 0, 5]]\n",
            "Accuracy : =>  100.0\n",
            "\n",
            "Fold  8\n",
            "Confusion matrix\n",
            "[[0, 0, 0], [0, 0, 0], [0, 2, 13]]\n",
            "Accuracy : =>  86.66666666666667\n",
            "\n",
            "Fold  9\n",
            "Confusion matrix\n",
            "[[0, 0, 0], [0, 0, 0], [0, 2, 13]]\n",
            "Accuracy : =>  86.66666666666667\n",
            "\n",
            "Fold  10\n",
            "Confusion matrix\n",
            "[[0, 0, 0], [0, 0, 0], [0, 0, 15]]\n",
            "Accuracy : =>  100.0\n",
            "\n",
            "Final confusion matrix\n",
            "[[50, 0, 0], [0, 46, 4], [0, 4, 46]]\n",
            "\n",
            "Average accuracy=> 94.66666666666666\n"
          ],
          "name": "stdout"
        }
      ]
    }
  ]
}