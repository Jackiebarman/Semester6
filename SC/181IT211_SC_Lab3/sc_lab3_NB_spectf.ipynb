{
  "nbformat": 4,
  "nbformat_minor": 0,
  "metadata": {
    "colab": {
      "name": "sc_lab3_NB_spectf.ipynb",
      "provenance": []
    },
    "kernelspec": {
      "name": "python3",
      "display_name": "Python 3"
    }
  },
  "cells": [
    {
      "cell_type": "code",
      "metadata": {
        "colab": {
          "base_uri": "https://localhost:8080/"
        },
        "id": "4PJizEoZJt_L",
        "outputId": "5dd5b615-71fe-4413-e842-fb61f581df8e"
      },
      "source": [
        "from google.colab import drive\n",
        "drive.mount('/content/drive')"
      ],
      "execution_count": 1,
      "outputs": [
        {
          "output_type": "stream",
          "text": [
            "Mounted at /content/drive\n"
          ],
          "name": "stdout"
        }
      ]
    },
    {
      "cell_type": "code",
      "metadata": {
        "id": "Mp5TqnFyKCyU"
      },
      "source": [
        "import pandas as pd\n",
        "import numpy as np\n",
        "import sklearn\n",
        "import statistics\n",
        "import math \n",
        "\n"
      ],
      "execution_count": 2,
      "outputs": []
    },
    {
      "cell_type": "code",
      "metadata": {
        "colab": {
          "base_uri": "https://localhost:8080/"
        },
        "id": "D2iBKxEdKfra",
        "outputId": "8ff29ea3-2eea-44c6-b72b-e3d9f419041f"
      },
      "source": [
        "\n",
        "data=pd.read_csv(\"/content/drive/My Drive/sc_lab/SPECTF_test.csv\")\n",
        "data=pd.DataFrame(data)\n",
        "print(data)\n",
        "d2=data[\"Class\"]\n",
        "data.drop([\"Class\"],axis=1,inplace=True)\n",
        "d1=data\n",
        "d1=np.array(d1)\n",
        "d2=np.array(d2)\n"
      ],
      "execution_count": 3,
      "outputs": [
        {
          "output_type": "stream",
          "text": [
            "     Attr_1  Attr_2  Attr_3  Attr_4  ...  Attr_42  Attr_43  Attr_44  Class\n",
            "0        32      41      76      34  ...        8       18       11    Yes\n",
            "1        76      65      60      40  ...       30       24       21    Yes\n",
            "2        60      51      75      60  ...       31       46       30    Yes\n",
            "3        64      60      71      69  ...       64       61       56    Yes\n",
            "4        65      69      66      76  ...       65       63       61    Yes\n",
            "..      ...     ...     ...     ...  ...      ...      ...      ...    ...\n",
            "105      70      75      72      72  ...       67       56       54     No\n",
            "106      59      57      67      71  ...       63       56       56     No\n",
            "107      67      64      73      75  ...       80       67       68     No\n",
            "108      68      65      72      72  ...       56       58       44     No\n",
            "109      66      54      69      66  ...       68       59       59     No\n",
            "\n",
            "[110 rows x 45 columns]\n"
          ],
          "name": "stdout"
        }
      ]
    },
    {
      "cell_type": "code",
      "metadata": {
        "id": "8hNMdxsYCPNZ"
      },
      "source": [
        "class_to_no={}\n",
        "class_to_no['Yes']=0\n",
        "class_to_no['No']=1\n"
      ],
      "execution_count": 4,
      "outputs": []
    },
    {
      "cell_type": "code",
      "metadata": {
        "id": "GK4f3jyUIDVb"
      },
      "source": [
        "no_to_class={}\n",
        "no_to_class[0]='Yes'\n",
        "no_to_class[1]='No'\n"
      ],
      "execution_count": 5,
      "outputs": []
    },
    {
      "cell_type": "code",
      "metadata": {
        "id": "JVre9GTV_sAH"
      },
      "source": [
        "\n",
        "def get_group(x,y):\n",
        "  group=[[[] for i in range(44)] for i in range(2)]\n",
        "  for i in range(len(x)):\n",
        "    for j in range(44):\n",
        "      group[class_to_no[y[i]]][j].append(x[i][j])\n",
        "  return group\n",
        "\n"
      ],
      "execution_count": 6,
      "outputs": []
    },
    {
      "cell_type": "code",
      "metadata": {
        "id": "vpU1lErWDtWM"
      },
      "source": [
        "\n",
        "def get_group_mean(group):\n",
        "  group_mean=[[] for i in range(2)]\n",
        "  for i in range(len(group)):\n",
        "    for j in range(len(group[i])):\n",
        "      if(len(group[i][j])==0):\n",
        "        group_mean[i].append(0)\n",
        "      else:\n",
        "        group_mean[i].append(statistics.mean(group[i][j]))\n",
        "\n",
        "  return group_mean\n",
        "\n"
      ],
      "execution_count": 7,
      "outputs": []
    },
    {
      "cell_type": "code",
      "metadata": {
        "id": "4gErRd7sFQqC"
      },
      "source": [
        "\n",
        "def get_stddev(group):\n",
        "  group_stdev=[[] for i in range(2)]\n",
        "  for i in range(len(group)):\n",
        "    for j in range(len(group[i])):\n",
        "      if(len(group[i][j])<2):\n",
        "        group_stdev[i].append(0)\n",
        "      else:\n",
        "        group_stdev[i].append(statistics.stdev(group[i][j]))\n",
        "  \n",
        "  return group_stdev\n",
        "\n"
      ],
      "execution_count": 8,
      "outputs": []
    },
    {
      "cell_type": "code",
      "metadata": {
        "id": "TUOcwFxLFrpd"
      },
      "source": [
        "#P(x k |C i ) is usually computed based on Gaussian distribution\n",
        "def prob(x,mean,stddev):\n",
        "  if(stddev==0):\n",
        "    return 0\n",
        "  return (math.exp(-((x-mean)**2)/(2*(stddev**2))))/(math.sqrt(2*math.pi)*stddev)"
      ],
      "execution_count": 9,
      "outputs": []
    },
    {
      "cell_type": "code",
      "metadata": {
        "id": "PVW0LN_PeB09"
      },
      "source": [
        "\n",
        "def get_count_class(y):\n",
        "  count_class={}\n",
        "  count_class['Yes']=0\n",
        "  count_class['No']=0\n",
        "  for i in y:\n",
        "    count_class[i]+=1\n",
        "  return count_class"
      ],
      "execution_count": 10,
      "outputs": []
    },
    {
      "cell_type": "code",
      "metadata": {
        "id": "oouAew9heunc"
      },
      "source": [
        "\n",
        "def get_prob_class(count_class,y):\n",
        "  prob_class={}\n",
        "  for i in count_class:\n",
        "    prob_class[i]=count_class[i]/len(y)\n",
        "  return prob_class"
      ],
      "execution_count": 11,
      "outputs": []
    },
    {
      "cell_type": "code",
      "metadata": {
        "id": "qr1IoCaMH7Pz"
      },
      "source": [
        "def predict(group,group_mean,group_stdev,prob_class,x_test):\n",
        "  predict_class=[]\n",
        "  for i in range(len(x_test)):\n",
        "\n",
        "    temp=[]\n",
        "    for j in range(len(group)):\n",
        "      p=1\n",
        "      for k in range(44):\n",
        "        p=p*prob(x_test[i][k],group_mean[j][k],group_stdev[j][k])\n",
        "      p=p*prob_class[no_to_class[j]]\n",
        "      temp.append(p)\n",
        "    \n",
        "    y=0\n",
        "    x=0\n",
        "  \n",
        "    for i in range(len(temp)):\n",
        "      if(temp[i]>x):\n",
        "        y=i\n",
        "        x=temp[i]\n",
        "\n",
        "    predict_class.append(y)\n",
        "  return predict_class  \n",
        "  \n"
      ],
      "execution_count": 12,
      "outputs": []
    },
    {
      "cell_type": "code",
      "metadata": {
        "id": "1K-5cC1qmXlz"
      },
      "source": [
        "def classification_report(cm):\n",
        "    # accuracy = 0\n",
        "    # total = np.sum(cm)\n",
        "    # diagonal = np.sum(np.diag(cm))\n",
        "    # accuracy=(diagonal/total)*100\n",
        "    # print(\"Accuracy : => \",(diagonal/total)*100)\n",
        "    TP=cm[0][0]\n",
        "    TN=cm[1][1]\n",
        "    FN=cm[0][1]\n",
        "    FP=cm[1][0]\n",
        "    accuracy = ((TP+TN)/(FP+FN+TP+TN))*100\n",
        "    print(\"Accuracy :=>\",accuracy)\n",
        "    return accuracy"
      ],
      "execution_count": 13,
      "outputs": []
    },
    {
      "cell_type": "code",
      "metadata": {
        "colab": {
          "base_uri": "https://localhost:8080/"
        },
        "id": "PGdmOd1gvqky",
        "outputId": "8a0e0e2c-e44e-4037-d637-16689fa2b8a9"
      },
      "source": [
        "print(\"SPECTF dataset\")\n",
        "Avg_accuracy=0\n",
        "block=int(len(data)/10)\n",
        "M=[[0 for i in range(2)] for i in range(2)]\n",
        "for i in range(10):\n",
        "  temp_x_data=[]\n",
        "  temp_y_data=[]\n",
        "  \n",
        "  x_test=[]\n",
        "  y_test=[]\n",
        "  \n",
        "  point=[]\n",
        "  for j in range(block):\n",
        "    point.append(block*i+j)\n",
        "\n",
        "  \n",
        "  for j in range(len(data)):\n",
        "    if(j in point):\n",
        "      x_test.append(d1[j])\n",
        "      y_test.append(d2[j])\n",
        "    else:\n",
        "      temp_x_data.append(d1[j])\n",
        "      temp_y_data.append(d2[j])\n",
        "  # print(len(temp_x_data),len(temp_y_data))\n",
        "  group=get_group(temp_x_data,temp_y_data)\n",
        "  \n",
        "  group_mean=get_group_mean(group)\n",
        "  group_stdev=get_stddev(group)\n",
        "  count_class=get_count_class(temp_y_data)\n",
        "  prob_class=get_prob_class(count_class,temp_y_data)\n",
        "  \n",
        "  predict_class=predict(group,group_mean,group_stdev,prob_class,x_test)\n",
        "  print(\"Fold \",i+1)\n",
        "  # for j in range(len(predict_class)):\n",
        "  #   print(no_to_class[predict_class[j]],y_test[j])\n",
        "  \n",
        "  matrix=[[0 for j in range(2)] for j in range(2)]\n",
        "\n",
        "  for j in range(len(x_test)):\n",
        "    matrix[class_to_no[y_test[j]]][predict_class[j]]+=1\n",
        "\n",
        "  for p in range(2):\n",
        "    for q in range(2):\n",
        "      M[p][q]+=matrix[p][q]\n",
        "\n",
        "  print(\"Confusion matrix\")\n",
        "  print(matrix)\n",
        "\n",
        "  accu=classification_report(matrix)\n",
        "  \n",
        "  Avg_accuracy+=accu\n",
        "  print()\n",
        "\n",
        "\n",
        "print(\"Final confusion matrix\")\n",
        "print(M)\n",
        "\n",
        "Avg_accuracy/=10\n",
        "print()\n",
        "print(\"Average accuracy=>\",Avg_accuracy)"
      ],
      "execution_count": 14,
      "outputs": [
        {
          "output_type": "stream",
          "text": [
            "SPECTF dataset\n",
            "Fold  1\n",
            "Confusion matrix\n",
            "[[10, 1], [0, 0]]\n",
            "Accuracy :=> 90.9090909090909\n",
            "\n",
            "Fold  2\n",
            "Confusion matrix\n",
            "[[1, 3], [1, 6]]\n",
            "Accuracy :=> 63.63636363636363\n",
            "\n",
            "Fold  3\n",
            "Confusion matrix\n",
            "[[1, 2], [1, 7]]\n",
            "Accuracy :=> 72.72727272727273\n",
            "\n",
            "Fold  4\n",
            "Confusion matrix\n",
            "[[3, 8], [0, 0]]\n",
            "Accuracy :=> 27.27272727272727\n",
            "\n",
            "Fold  5\n",
            "Confusion matrix\n",
            "[[6, 5], [0, 0]]\n",
            "Accuracy :=> 54.54545454545454\n",
            "\n",
            "Fold  6\n",
            "Confusion matrix\n",
            "[[7, 4], [0, 0]]\n",
            "Accuracy :=> 63.63636363636363\n",
            "\n",
            "Fold  7\n",
            "Confusion matrix\n",
            "[[4, 0], [0, 7]]\n",
            "Accuracy :=> 100.0\n",
            "\n",
            "Fold  8\n",
            "Confusion matrix\n",
            "[[0, 0], [0, 11]]\n",
            "Accuracy :=> 100.0\n",
            "\n",
            "Fold  9\n",
            "Confusion matrix\n",
            "[[0, 0], [0, 11]]\n",
            "Accuracy :=> 100.0\n",
            "\n",
            "Fold  10\n",
            "Confusion matrix\n",
            "[[0, 0], [2, 9]]\n",
            "Accuracy :=> 81.81818181818183\n",
            "\n",
            "Final confusion matrix\n",
            "[[32, 23], [4, 51]]\n",
            "\n",
            "Average accuracy=> 75.45454545454547\n"
          ],
          "name": "stdout"
        }
      ]
    }
  ]
}